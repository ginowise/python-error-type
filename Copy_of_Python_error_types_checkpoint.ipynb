{
  "nbformat": 4,
  "nbformat_minor": 0,
  "metadata": {
    "kernelspec": {
      "display_name": "Python 2",
      "language": "python",
      "name": "python2"
    },
    "language_info": {
      "codemirror_mode": {
        "name": "ipython",
        "version": 3
      },
      "file_extension": ".py",
      "mimetype": "text/x-python",
      "name": "python",
      "nbconvert_exporter": "python",
      "pygments_lexer": "ipython3",
      "version": "3.6.8"
    },
    "colab": {
      "name": "Copy of Python error types checkpoint.ipynb",
      "provenance": []
    }
  },
  "cells": [
    {
      "cell_type": "markdown",
      "metadata": {
        "id": "BnA5PscALqYj"
      },
      "source": [
        "# Rectify the code in each cell and **explain the error in comments**"
      ]
    },
    {
      "cell_type": "markdown",
      "metadata": {
        "id": "aZcPJnU5CUJC"
      },
      "source": [
        "### index error"
      ]
    },
    {
      "cell_type": "code",
      "metadata": {
        "id": "vizZiOjyCUJF",
        "colab": {
          "base_uri": "https://localhost:8080/",
          "height": 183
        },
        "outputId": "e6655924-71c9-4da4-bcc0-ede597102c3c"
      },
      "source": [
        "mylist=[14, \"hello\", 967]\n",
        "mylist[6]"
      ],
      "execution_count": null,
      "outputs": [
        {
          "output_type": "error",
          "ename": "IndexError",
          "evalue": "ignored",
          "traceback": [
            "\u001b[0;31m---------------------------------------------------------------------------\u001b[0m",
            "\u001b[0;31mIndexError\u001b[0m                                Traceback (most recent call last)",
            "\u001b[0;32m<ipython-input-5-1590647b98e2>\u001b[0m in \u001b[0;36m<module>\u001b[0;34m()\u001b[0m\n\u001b[1;32m      1\u001b[0m \u001b[0mmylist\u001b[0m\u001b[0;34m=\u001b[0m\u001b[0;34m[\u001b[0m\u001b[0;36m14\u001b[0m\u001b[0;34m,\u001b[0m \u001b[0;34m\"hello\"\u001b[0m\u001b[0;34m,\u001b[0m \u001b[0;36m967\u001b[0m\u001b[0;34m]\u001b[0m\u001b[0;34m\u001b[0m\u001b[0;34m\u001b[0m\u001b[0m\n\u001b[0;32m----> 2\u001b[0;31m \u001b[0mmylist\u001b[0m\u001b[0;34m[\u001b[0m\u001b[0;36m6\u001b[0m\u001b[0;34m]\u001b[0m\u001b[0;34m\u001b[0m\u001b[0;34m\u001b[0m\u001b[0m\n\u001b[0m",
            "\u001b[0;31mIndexError\u001b[0m: list index out of range"
          ]
        }
      ]
    },
    {
      "cell_type": "markdown",
      "source": [
        "The Element with index 6  doesn’t exist in the list with three elements.\n",
        "The maximal index in  Mylist is 2\n",
        "\n",
        "\n",
        "\n",
        "\n"
      ],
      "metadata": {
        "id": "mjhfcgrI2eHe"
      }
    },
    {
      "cell_type": "markdown",
      "source": [
        ""
      ],
      "metadata": {
        "id": "6IVNGVmY0z7v"
      }
    },
    {
      "cell_type": "code",
      "metadata": {
        "colab": {
          "base_uri": "https://localhost:8080/",
          "height": 321
        },
        "id": "PctyMmHLfvkb",
        "outputId": "f2797468-3c1f-4527-bb58-91bdc345613e"
      },
      "source": [
        "import Pandas\n",
        "import NumPy"
      ],
      "execution_count": null,
      "outputs": [
        {
          "output_type": "error",
          "ename": "ModuleNotFoundError",
          "evalue": "ignored",
          "traceback": [
            "\u001b[0;31m---------------------------------------------------------------------------\u001b[0m",
            "\u001b[0;31mModuleNotFoundError\u001b[0m                       Traceback (most recent call last)",
            "\u001b[0;32m<ipython-input-6-3f03fc6488f6>\u001b[0m in \u001b[0;36m<module>\u001b[0;34m()\u001b[0m\n\u001b[0;32m----> 1\u001b[0;31m \u001b[0;32mimport\u001b[0m \u001b[0mPandas\u001b[0m\u001b[0;34m\u001b[0m\u001b[0;34m\u001b[0m\u001b[0m\n\u001b[0m\u001b[1;32m      2\u001b[0m \u001b[0;32mimport\u001b[0m \u001b[0mNumPy\u001b[0m\u001b[0;34m\u001b[0m\u001b[0;34m\u001b[0m\u001b[0m\n",
            "\u001b[0;31mModuleNotFoundError\u001b[0m: No module named 'Pandas'",
            "",
            "\u001b[0;31m---------------------------------------------------------------------------\u001b[0;32m\nNOTE: If your import is failing due to a missing package, you can\nmanually install dependencies using either !pip or !apt.\n\nTo view examples of installing some common dependencies, click the\n\"Open Examples\" button below.\n\u001b[0;31m---------------------------------------------------------------------------\u001b[0m\n"
          ],
          "errorDetails": {
            "actions": [
              {
                "action": "open_url",
                "actionText": "Open Examples",
                "url": "/notebooks/snippets/importing_libraries.ipynb"
              }
            ]
          }
        }
      ]
    },
    {
      "cell_type": "markdown",
      "source": [
        " Python doesn’t provide pandas in its standard library. You need to install it first. Before being able to import the Pandas module, you need to install it using Python’s package manager pip.\n",
        " "
      ],
      "metadata": {
        "id": "7iNRI8Z6FGWO"
      }
    },
    {
      "cell_type": "markdown",
      "metadata": {
        "id": "QOOGIm3DCUJb"
      },
      "source": [
        "# syntax error"
      ]
    },
    {
      "cell_type": "code",
      "metadata": {
        "id": "M5R4cb7fCUJb",
        "colab": {
          "base_uri": "https://localhost:8080/",
          "height": 130
        },
        "outputId": "d3959cb4-2463-4fa2-95b7-33334a2cbc01"
      },
      "source": [
        "Print\"python errors\""
      ],
      "execution_count": null,
      "outputs": [
        {
          "output_type": "error",
          "ename": "SyntaxError",
          "evalue": "ignored",
          "traceback": [
            "\u001b[0;36m  File \u001b[0;32m\"<ipython-input-7-7fcef9b829f8>\"\u001b[0;36m, line \u001b[0;32m1\u001b[0m\n\u001b[0;31m    Print\"python errors\"\u001b[0m\n\u001b[0m                       ^\u001b[0m\n\u001b[0;31mSyntaxError\u001b[0m\u001b[0;31m:\u001b[0m invalid syntax\n"
          ]
        }
      ]
    },
    {
      "cell_type": "markdown",
      "source": [
        "Parentheses is missing from the print statement.\n",
        "The correct syntax: \n",
        "Print(\"python errors\")"
      ],
      "metadata": {
        "id": "gDtEGCJyMJNt"
      }
    },
    {
      "cell_type": "markdown",
      "source": [
        ""
      ],
      "metadata": {
        "id": "KLoFxRcMLjks"
      }
    },
    {
      "cell_type": "markdown",
      "metadata": {
        "id": "Zllqh28_CUJh"
      },
      "source": [
        "# key error"
      ]
    },
    {
      "cell_type": "code",
      "metadata": {
        "id": "OuWy1e17CUJj",
        "colab": {
          "base_uri": "https://localhost:8080/",
          "height": 180
        },
        "outputId": "1a93b6cd-3623-4df3-d078-a719126b0018"
      },
      "source": [
        "mydictionnary={True:\"hello\",False:\"bye\", '3':\"python\"}\n",
        "mydictionnary['True']"
      ],
      "execution_count": null,
      "outputs": [
        {
          "output_type": "error",
          "ename": "KeyError",
          "evalue": "ignored",
          "traceback": [
            "\u001b[0;31m\u001b[0m",
            "\u001b[0;31mKeyError\u001b[0mTraceback (most recent call last)",
            "\u001b[0;32m<ipython-input-8-c10781d39470>\u001b[0m in \u001b[0;36m<module>\u001b[0;34m()\u001b[0m\n\u001b[1;32m      1\u001b[0m \u001b[0mmydictionnary\u001b[0m\u001b[0;34m=\u001b[0m\u001b[0;34m{\u001b[0m\u001b[0mTrue\u001b[0m\u001b[0;34m:\u001b[0m\u001b[0;34m\"hello\"\u001b[0m\u001b[0;34m,\u001b[0m\u001b[0mFalse\u001b[0m\u001b[0;34m:\u001b[0m\u001b[0;34m\"bye\"\u001b[0m\u001b[0;34m,\u001b[0m \u001b[0;34m'3'\u001b[0m\u001b[0;34m:\u001b[0m\u001b[0;34m\"python\"\u001b[0m\u001b[0;34m}\u001b[0m\u001b[0;34m\u001b[0m\u001b[0m\n\u001b[0;32m----> 2\u001b[0;31m \u001b[0mmydictionnary\u001b[0m\u001b[0;34m[\u001b[0m\u001b[0;34m'True'\u001b[0m\u001b[0;34m]\u001b[0m\u001b[0;34m\u001b[0m\u001b[0m\n\u001b[0m",
            "\u001b[0;31mKeyError\u001b[0m: 'True'"
          ]
        }
      ]
    },
    {
      "cell_type": "markdown",
      "source": [
        " The assignment operator '=' is missing in line 2\n",
        "\n",
        " Mydictionary=['True']\n"
      ],
      "metadata": {
        "id": "J2W8gcZgXcJ-"
      }
    },
    {
      "cell_type": "markdown",
      "metadata": {
        "id": "jc1wRC1aCUJw"
      },
      "source": [
        "# indentation error"
      ]
    },
    {
      "cell_type": "markdown",
      "source": [
        ""
      ],
      "metadata": {
        "id": "h1trjNtQaeNb"
      }
    },
    {
      "cell_type": "code",
      "metadata": {
        "id": "meWj9PP_CUJy",
        "colab": {
          "base_uri": "https://localhost:8080/",
          "height": 130
        },
        "outputId": "26ddccf1-3f31-4dc3-ba32-58dbdafee0a0"
      },
      "source": [
        "i=14\n",
        "while i<78:\n",
        "print(i)\n",
        "i+=1"
      ],
      "execution_count": null,
      "outputs": [
        {
          "output_type": "error",
          "ename": "IndentationError",
          "evalue": "ignored",
          "traceback": [
            "\u001b[0;36m  File \u001b[0;32m\"<ipython-input-8-e05ff9c10475>\"\u001b[0;36m, line \u001b[0;32m3\u001b[0m\n\u001b[0;31m    print(i)\u001b[0m\n\u001b[0m        ^\u001b[0m\n\u001b[0;31mIndentationError\u001b[0m\u001b[0;31m:\u001b[0m expected an indented block\n"
          ]
        }
      ]
    },
    {
      "cell_type": "markdown",
      "source": [
        "the error occurred in the print statement in line 3 because it does not follow the correct indentation.They should be a space before the print statement: print(i)\n",
        "\n"
      ],
      "metadata": {
        "id": "jiD0vnK8agGL"
      }
    },
    {
      "cell_type": "markdown",
      "source": [
        ""
      ],
      "metadata": {
        "id": "eHyBzjvkcFle"
      }
    },
    {
      "cell_type": "markdown",
      "metadata": {
        "id": "-g_eEuEICUJ5"
      },
      "source": [
        "# StopIteration"
      ]
    },
    {
      "cell_type": "code",
      "metadata": {
        "id": "tJv5vQQGCUJ5",
        "colab": {
          "base_uri": "https://localhost:8080/",
          "height": 200
        },
        "outputId": "8f06232d-84d6-4f58-b7d7-9d7795381133"
      },
      "source": [
        "\n",
        "it=iter([1,2,3])\n",
        "next(it)\n",
        "next(it)\n",
        "next(it)\n",
        "next(it)"
      ],
      "execution_count": null,
      "outputs": [
        {
          "output_type": "error",
          "ename": "StopIteration",
          "evalue": "ignored",
          "traceback": [
            "\u001b[0;31m---------------------------------------------------------------------------\u001b[0m",
            "\u001b[0;31mStopIteration\u001b[0m                             Traceback (most recent call last)",
            "\u001b[0;32m<ipython-input-9-dc5f8da513df>\u001b[0m in \u001b[0;36m<module>\u001b[0;34m()\u001b[0m\n\u001b[1;32m      4\u001b[0m \u001b[0mnext\u001b[0m\u001b[0;34m(\u001b[0m\u001b[0mit\u001b[0m\u001b[0;34m)\u001b[0m\u001b[0;34m\u001b[0m\u001b[0;34m\u001b[0m\u001b[0m\n\u001b[1;32m      5\u001b[0m \u001b[0mnext\u001b[0m\u001b[0;34m(\u001b[0m\u001b[0mit\u001b[0m\u001b[0;34m)\u001b[0m\u001b[0;34m\u001b[0m\u001b[0;34m\u001b[0m\u001b[0m\n\u001b[0;32m----> 6\u001b[0;31m \u001b[0mnext\u001b[0m\u001b[0;34m(\u001b[0m\u001b[0mit\u001b[0m\u001b[0;34m)\u001b[0m\u001b[0;34m\u001b[0m\u001b[0;34m\u001b[0m\u001b[0m\n\u001b[0m",
            "\u001b[0;31mStopIteration\u001b[0m: "
          ]
        }
      ]
    },
    {
      "cell_type": "markdown",
      "source": [
        "After completing the iteration at line 4, the next interation value will throw StopIteration  because there is no more element in iterable_value."
      ],
      "metadata": {
        "id": "LZzDs7yViujt"
      }
    },
    {
      "cell_type": "markdown",
      "metadata": {
        "id": "0Q0fJoS1CUKA"
      },
      "source": [
        "# TypeError\n"
      ]
    },
    {
      "cell_type": "code",
      "metadata": {
        "id": "rh6bhiQ6CUKA",
        "colab": {
          "base_uri": "https://localhost:8080/",
          "height": 163
        },
        "outputId": "541b75f5-c116-4a28-a2ac-372080438f07"
      },
      "source": [
        "'15'+15"
      ],
      "execution_count": null,
      "outputs": [
        {
          "output_type": "error",
          "ename": "TypeError",
          "evalue": "ignored",
          "traceback": [
            "\u001b[0;31m\u001b[0m",
            "\u001b[0;31mTypeError\u001b[0mTraceback (most recent call last)",
            "\u001b[0;32m<ipython-input-12-49adfd1cdc0d>\u001b[0m in \u001b[0;36m<module>\u001b[0;34m()\u001b[0m\n\u001b[0;32m----> 1\u001b[0;31m \u001b[0;34m'15'\u001b[0m\u001b[0;34m+\u001b[0m\u001b[0;36m15\u001b[0m\u001b[0;34m\u001b[0m\u001b[0m\n\u001b[0m",
            "\u001b[0;31mTypeError\u001b[0m: cannot concatenate 'str' and 'int' objects"
          ]
        }
      ]
    },
    {
      "cell_type": "markdown",
      "source": [
        "Python does not allow concatenating values of different types. We can resolve the issue by converting integer value to string before concatenating."
      ],
      "metadata": {
        "id": "OdWs1BstmYe1"
      }
    },
    {
      "cell_type": "markdown",
      "metadata": {
        "id": "-xs5Em9QCUKF"
      },
      "source": [
        "# ValueError"
      ]
    },
    {
      "cell_type": "code",
      "metadata": {
        "id": "_rUS-J3dCUKH",
        "colab": {
          "base_uri": "https://localhost:8080/",
          "height": 163
        },
        "outputId": "26afb8f3-8bbc-4cb0-d7ca-9bcfcca52839"
      },
      "source": [
        "int('python')"
      ],
      "execution_count": null,
      "outputs": [
        {
          "output_type": "error",
          "ename": "ValueError",
          "evalue": "ignored",
          "traceback": [
            "\u001b[0;31m\u001b[0m",
            "\u001b[0;31mValueError\u001b[0mTraceback (most recent call last)",
            "\u001b[0;32m<ipython-input-13-2dd638f6810b>\u001b[0m in \u001b[0;36m<module>\u001b[0;34m()\u001b[0m\n\u001b[0;32m----> 1\u001b[0;31m \u001b[0mint\u001b[0m\u001b[0;34m(\u001b[0m\u001b[0;34m'python'\u001b[0m\u001b[0;34m)\u001b[0m\u001b[0;34m\u001b[0m\u001b[0m\n\u001b[0m",
            "\u001b[0;31mValueError\u001b[0m: invalid literal for int() with base 10: 'python'"
          ]
        }
      ]
    },
    {
      "cell_type": "markdown",
      "source": [
        "By definition, an integer is a whole number, so an integer-type object should only have numbers (+ and - are also acceptable). Python will throw an Valuerror when attempting to convert letters into an integer.\n",
        "from the above example: Int('python') have an error because the 'python' inside the int() funtion isn't a number."
      ],
      "metadata": {
        "id": "49D9qSV2ezOD"
      }
    },
    {
      "cell_type": "markdown",
      "metadata": {
        "id": "SIKftfJSCUKM"
      },
      "source": [
        "# NameError\n",
        "python\n",
        "\n",
        "\n",
        "Traceback (most recent call last):\n",
        "  File \"./prog.py\", line 1, in <module>\n",
        "NameError: name 'python' is not defined\n",
        "\n",
        "---\n",
        "\n",
        "\n",
        "\n",
        "---\n",
        "\n",
        "\n"
      ]
    },
    {
      "cell_type": "code",
      "metadata": {
        "id": "j3ZhAO67CUKM",
        "colab": {
          "base_uri": "https://localhost:8080/"
        },
        "outputId": "7073b02a-3551-44b5-a129-9bb3cec24156"
      },
      "source": [
        "python"
      ],
      "execution_count": null,
      "outputs": [
        {
          "output_type": "execute_result",
          "data": {
            "text/plain": [
              "10"
            ]
          },
          "metadata": {},
          "execution_count": 11
        }
      ]
    },
    {
      "cell_type": "markdown",
      "source": [
        "In python, nameerror name  is raised when we try to use the variable or function name which is not valid. In the above example 'python' was not define\n",
        "\n",
        "\n"
      ],
      "metadata": {
        "id": "LM6S3Me-jL_W"
      }
    },
    {
      "cell_type": "markdown",
      "metadata": {
        "id": "kNtxxeuaCUKT"
      },
      "source": [
        "# ZeroDivisionError"
      ]
    },
    {
      "cell_type": "code",
      "metadata": {
        "id": "hTaVRw1GCUKW",
        "colab": {
          "base_uri": "https://localhost:8080/",
          "height": 163
        },
        "outputId": "5085a28b-79ff-4478-9bb7-0120bf68e100"
      },
      "source": [
        "x=19/0"
      ],
      "execution_count": null,
      "outputs": [
        {
          "output_type": "error",
          "ename": "ZeroDivisionError",
          "evalue": "ignored",
          "traceback": [
            "\u001b[0;31m\u001b[0m",
            "\u001b[0;31mZeroDivisionError\u001b[0mTraceback (most recent call last)",
            "\u001b[0;32m<ipython-input-15-523d4565e4d9>\u001b[0m in \u001b[0;36m<module>\u001b[0;34m()\u001b[0m\n\u001b[0;32m----> 1\u001b[0;31m \u001b[0mx\u001b[0m\u001b[0;34m=\u001b[0m\u001b[0;36m19\u001b[0m\u001b[0;34m/\u001b[0m\u001b[0;36m0\u001b[0m\u001b[0;34m\u001b[0m\u001b[0m\n\u001b[0m",
            "\u001b[0;31mZeroDivisionError\u001b[0m: integer division or modulo by zero"
          ]
        }
      ]
    },
    {
      "cell_type": "markdown",
      "source": [
        "If you are working in Python, and receive the following output, your code is attempting to divide a given number by zero. \n",
        "In mathematics, division by 0 is undefined. Because of this, Python will issue the above error when your code tries to accomplish this undefined expression."
      ],
      "metadata": {
        "id": "78Q72uruqaOt"
      }
    }
  ]
}